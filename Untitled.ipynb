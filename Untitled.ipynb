{
  "nbformat": 4,
  "nbformat_minor": 0,
  "metadata": {
    "colab": {
      "provenance": [],
      "authorship_tag": "ABX9TyNyXPaqZCUvzVlmX0r69V/O",
      "include_colab_link": true
    },
    "kernelspec": {
      "name": "python3",
      "display_name": "Python 3"
    },
    "language_info": {
      "name": "python"
    }
  },
  "cells": [
    {
      "cell_type": "markdown",
      "metadata": {
        "id": "view-in-github",
        "colab_type": "text"
      },
      "source": [
        "<a href=\"https://colab.research.google.com/github/riteshpachare2002/riteshp111/blob/main/Untitled.ipynb\" target=\"_parent\"><img src=\"https://colab.research.google.com/assets/colab-badge.svg\" alt=\"Open In Colab\"/></a>"
      ]
    },
    {
      "cell_type": "code",
      "execution_count": null,
      "metadata": {
        "colab": {
          "base_uri": "https://localhost:8080/"
        },
        "id": "IdbZlwG8NSp1",
        "outputId": "317e321f-97a5-423e-c474-085618f01396"
      },
      "outputs": [
        {
          "output_type": "stream",
          "name": "stdout",
          "text": [
            "name:ritesh\n",
            "age:23\n",
            "my name is ritesh and i am  23 yearold\n"
          ]
        }
      ],
      "source": [
        "name=input(\"name:\")\n",
        "name2=input(\"age:\")\n",
        "print(\"my name is\",name,\"and i am \",name2,\"yearold\")"
      ]
    },
    {
      "cell_type": "code",
      "source": [
        " light =input(\"light:\")\n",
        "if(light==\"red\"):\n",
        "      print(\"stop\")\n",
        "elif(light==\"green\"):\n",
        "      print(\"go\")\n",
        "elif(light==\"yellow\"):\n",
        "      print(\"look\")\n",
        "else:\n",
        "      print(\"damage light\")\n"
      ],
      "metadata": {
        "colab": {
          "base_uri": "https://localhost:8080/"
        },
        "id": "9evowEG_wCOX",
        "outputId": "6e9ce63a-e85a-42fe-d3bc-ff667e2a36aa"
      },
      "execution_count": null,
      "outputs": [
        {
          "output_type": "stream",
          "name": "stdout",
          "text": [
            "light:red\n",
            "stop\n"
          ]
        }
      ]
    },
    {
      "cell_type": "code",
      "source": [
        "marks= input(\"marks:\")\n",
        "marks=int(marks)\n",
        "if(marks >= 90):\n",
        "    print(\"Grade=A\")\n",
        "elif(marks >= 80 and marks < 90):\n",
        "    print(\"Grade=B\")\n",
        "elif(marks >= 70 and marks < 80):\n",
        "    print(\"Grade=C\")\n",
        "elif(marks >= 35 and marks < 70):\n",
        "    print(\"Grade=D\")\n",
        "else:\n",
        "     print(\"Grade=FAIL\")\n"
      ],
      "metadata": {
        "colab": {
          "base_uri": "https://localhost:8080/"
        },
        "id": "VN4zKSxH0CHg",
        "outputId": "8ee61370-05fa-4624-c6b6-45b6b87ac7f2"
      },
      "execution_count": null,
      "outputs": [
        {
          "output_type": "stream",
          "name": "stdout",
          "text": [
            "marks:34\n",
            "Grade=FAIL\n"
          ]
        }
      ]
    },
    {
      "cell_type": "code",
      "source": [
        "marks=input('marks:')\n",
        "print(\"pass\")if int(marks)>= 35 else print(\"fail\")"
      ],
      "metadata": {
        "colab": {
          "base_uri": "https://localhost:8080/"
        },
        "id": "YENooVJi5Kvw",
        "outputId": "aa90383b-3ff3-4d06-fdf9-85453ada2730"
      },
      "execution_count": null,
      "outputs": [
        {
          "output_type": "stream",
          "name": "stdout",
          "text": [
            "marks:55\n",
            "pass\n"
          ]
        }
      ]
    },
    {
      "cell_type": "code",
      "source": [
        "#calculate simple interest\n",
        "#this code is ringt but not understand\n",
        "a=float(input(\"a:\"))\n",
        "b=float(input(\"b:\"))\n",
        "c=float(input(\"c:\"))\n",
        "print(a*b*c/100)"
      ],
      "metadata": {
        "id": "3ddmvpdF8L-_",
        "outputId": "877903e3-2c21-4e59-d322-c67dc1c47d28",
        "colab": {
          "base_uri": "https://localhost:8080/"
        }
      },
      "execution_count": null,
      "outputs": [
        {
          "output_type": "stream",
          "name": "stdout",
          "text": [
            "a:20\n",
            "b:30\n",
            "c:40\n",
            "240.0\n"
          ]
        }
      ]
    },
    {
      "cell_type": "code",
      "source": [
        "#improved\n",
        "p=float(input(\"p:\"))\n",
        "q=float(input(\"q:\"))\n",
        "r=float(input(\"r:\"))\n",
        "si =(p*q*r)/100\n",
        "print(si)\n",
        "\n"
      ],
      "metadata": {
        "id": "KdbQ9Qjy8KVm",
        "outputId": "f7170232-f849-4bae-eedf-ed9598608a89",
        "colab": {
          "base_uri": "https://localhost:8080/"
        }
      },
      "execution_count": null,
      "outputs": [
        {
          "output_type": "stream",
          "name": "stdout",
          "text": [
            "p:4\n",
            "q:5\n",
            "r:6\n",
            "1.2\n"
          ]
        }
      ]
    },
    {
      "cell_type": "code",
      "source": [
        " #arithmetic oprators(+,-,*,/,%,**)\n",
        " a=5\n",
        " b=2\n",
        " print(a+b)\n",
        " print(a-b)\n",
        " print(a*b)\n",
        " print(a/b)\n",
        " print(a%b)#(%=modulo ,they show reminder value)\n",
        " print(a**b)#(**= they calculate power a^b)"
      ],
      "metadata": {
        "colab": {
          "base_uri": "https://localhost:8080/"
        },
        "id": "VwUeya8LGzm7",
        "outputId": "1a67503c-2a7f-441e-8d27-91523417998c"
      },
      "execution_count": null,
      "outputs": [
        {
          "output_type": "stream",
          "name": "stdout",
          "text": [
            "7\n",
            "3\n",
            "10\n",
            "2.5\n",
            "1\n",
            "25\n"
          ]
        }
      ]
    },
    {
      "cell_type": "markdown",
      "source": [
        "Types of operators"
      ],
      "metadata": {
        "id": "PU8L3bYUJETU"
      }
    },
    {
      "cell_type": "code",
      "source": [
        "# 10 is less than 20\n",
        "num= int (input(\"enter a number :\"))\n",
        "\n",
        "if num >=10:\n",
        "  if num<=20:\n",
        "    print(\"number is between 10 and 20\")\n",
        "  else:\n",
        "    print(\"number is greater than 20\")\n",
        "else:\n",
        "  print(\"number is less than 10\")\n"
      ],
      "metadata": {
        "id": "IfirgFVZNUTR",
        "outputId": "81ad0217-d9f2-4c04-d580-622675755cc0",
        "colab": {
          "base_uri": "https://localhost:8080/"
        }
      },
      "execution_count": null,
      "outputs": [
        {
          "output_type": "stream",
          "name": "stdout",
          "text": [
            "enter a number :18\n",
            "number is between 10 and 20\n"
          ]
        }
      ]
    },
    {
      "cell_type": "code",
      "source": [
        "#relational operators(==,!=,>,<,>=,<=)\n",
        "a=10\n",
        "b=20\n",
        "print(a==b)\n",
        "print(a!=b)\n",
        "print(a>b)\n",
        "print(a<b)\n",
        "print(a>=b)\n",
        "print(a<=b)"
      ],
      "metadata": {
        "id": "5ovuosNGCiuT",
        "outputId": "4a3fc1f0-7710-49c0-9388-6d0783e95475",
        "colab": {
          "base_uri": "https://localhost:8080/"
        }
      },
      "execution_count": null,
      "outputs": [
        {
          "output_type": "stream",
          "name": "stdout",
          "text": [
            "False\n",
            "True\n",
            "False\n",
            "True\n",
            "False\n",
            "True\n"
          ]
        }
      ]
    },
    {
      "cell_type": "code",
      "source": [
        "#assigment operaters(=,+=,-=,/=,%=,**=)\n",
        "num=10\n",
        "num=num+10\n",
        "num+=10\n",
        "print(num)\n"
      ],
      "metadata": {
        "id": "-RdlkjGDDfhI",
        "outputId": "12647375-0248-4ef6-dd35-6f3a7725a252",
        "colab": {
          "base_uri": "https://localhost:8080/"
        }
      },
      "execution_count": null,
      "outputs": [
        {
          "output_type": "stream",
          "name": "stdout",
          "text": [
            "30\n"
          ]
        }
      ]
    },
    {
      "cell_type": "code",
      "source": [
        "#assigment opretors(=,+=,-=,/=,%=,**=)\n",
        "num=10\n",
        "num+=5\n",
        "print(\"num:\",num)#0"
      ],
      "metadata": {
        "id": "iTkeGnj7G3Fm",
        "outputId": "2bccc9e4-c725-4f89-cc61-56286f3c1b1d",
        "colab": {
          "base_uri": "https://localhost:8080/"
        }
      },
      "execution_count": null,
      "outputs": [
        {
          "output_type": "stream",
          "name": "stdout",
          "text": [
            "num: 15\n"
          ]
        }
      ]
    },
    {
      "cell_type": "code",
      "source": [
        "from pickle import FALSE\n",
        "#logical opretors(not,and,or)\n",
        "a=50\n",
        "b=30\n",
        "print(not False)\n",
        "print(not(a>b))\n",
        "\n",
        "val_1 = True\n",
        "val_2 = False\n",
        "print(\"and operator:\",val_1 and val_2)#both value are true=true,!=false\n",
        "print(\"or operator:\",val_1 or val_2)# 1 value are true"
      ],
      "metadata": {
        "id": "x4YoQciCIUMn",
        "outputId": "1b9ffad9-3d62-4c87-c43c-115defc455f2",
        "colab": {
          "base_uri": "https://localhost:8080/"
        }
      },
      "execution_count": null,
      "outputs": [
        {
          "output_type": "stream",
          "name": "stdout",
          "text": [
            "True\n",
            "False\n",
            "and operator: False\n",
            "or operator: True\n"
          ]
        }
      ]
    },
    {
      "cell_type": "code",
      "source": [
        "#type conversion\n",
        "a=2\n",
        "b=4.25\n",
        "sum = a + b #2.0+4,25 =>6.25\n",
        "print(sum)"
      ],
      "metadata": {
        "id": "RQUQUpUwIVx1",
        "outputId": "72259ce6-1485-42ce-d86b-2de0d99dd132",
        "colab": {
          "base_uri": "https://localhost:8080/"
        }
      },
      "execution_count": null,
      "outputs": [
        {
          "output_type": "stream",
          "name": "stdout",
          "text": [
            "6.25\n"
          ]
        }
      ]
    },
    {
      "cell_type": "code",
      "source": [
        "#type casting\n",
        "a,b= 1,\"2\"\n",
        "c=int(b)\n",
        "sum = a+c\n",
        "print(sum)\n",
        "\n"
      ],
      "metadata": {
        "id": "XOlzFudxOUyx",
        "outputId": "61cc2d3f-8a90-40b8-e730-bb78a0c85eac",
        "colab": {
          "base_uri": "https://localhost:8080/"
        }
      },
      "execution_count": null,
      "outputs": [
        {
          "output_type": "stream",
          "name": "stdout",
          "text": [
            "3\n"
          ]
        }
      ]
    },
    {
      "cell_type": "code",
      "source": [
        "#converting\n",
        "a=3.14\n",
        "a=str(a)\n",
        "print(type(a))\n",
        "print(a)\n"
      ],
      "metadata": {
        "id": "GJDwTjPEPv_m",
        "outputId": "479d3244-3fe9-4891-e633-0b22054d77b4",
        "colab": {
          "base_uri": "https://localhost:8080/"
        }
      },
      "execution_count": null,
      "outputs": [
        {
          "output_type": "stream",
          "name": "stdout",
          "text": [
            "<class 'str'>\n",
            "3.14\n"
          ]
        }
      ]
    },
    {
      "cell_type": "code",
      "source": [
        "#input in python\n",
        "name=(input(\"Enter name:\"))\n",
        "print(\"welcome\",name)\n",
        "print(type(name))"
      ],
      "metadata": {
        "id": "jgo5LxPLQ_-v",
        "outputId": "965357f6-a037-4829-ae9d-d66d2887f2f7",
        "colab": {
          "base_uri": "https://localhost:8080/"
        }
      },
      "execution_count": null,
      "outputs": [
        {
          "output_type": "stream",
          "name": "stdout",
          "text": [
            "Enter name:ritesh\n",
            "welcome ritesh\n",
            "<class 'str'>\n"
          ]
        }
      ]
    },
    {
      "cell_type": "code",
      "source": [
        "#input in python(int,float)\n",
        "val=int(input(\"enter a number:\"))\n",
        "val1=float(input(\"enter a number float:\"))\n",
        "print(val)\n",
        "print(val1)\n",
        "print(type(val))\n",
        "print(type(val1))"
      ],
      "metadata": {
        "id": "7ukDIhwnS52a",
        "outputId": "7fb2a893-7be3-48ce-a163-5286b4c6e8ea",
        "colab": {
          "base_uri": "https://localhost:8080/"
        }
      },
      "execution_count": null,
      "outputs": [
        {
          "output_type": "stream",
          "name": "stdout",
          "text": [
            "enter a number:23\n",
            "enter a number float:2.4\n",
            "23\n",
            "2.4\n",
            "<class 'int'>\n",
            "<class 'float'>\n"
          ]
        }
      ]
    },
    {
      "cell_type": "code",
      "source": [
        "#write a program to input 2 numbers &print their sum\n",
        "a=int(input(\"enter a number:\"))\n",
        "b=int(input(\"enter a number:\"))\n",
        "sum=a+b\n",
        "print(sum)"
      ],
      "metadata": {
        "id": "4z2DCa4RUuXg",
        "outputId": "0094f5b9-c5f8-4547-bff7-9192351fb464",
        "colab": {
          "base_uri": "https://localhost:8080/"
        }
      },
      "execution_count": null,
      "outputs": [
        {
          "output_type": "stream",
          "name": "stdout",
          "text": [
            "enter a number:3\n",
            "enter a number:4\n",
            "7\n"
          ]
        }
      ]
    },
    {
      "cell_type": "code",
      "source": [
        "#write a program to input side of a square & print area\n",
        "side=float(input(\"enter side:\"))\n",
        "print(\"area=\",side*side)"
      ],
      "metadata": {
        "id": "4_nnfDp1X1OB",
        "outputId": "33b6419d-aad9-492f-9ba9-1316a5e76dee",
        "colab": {
          "base_uri": "https://localhost:8080/"
        }
      },
      "execution_count": null,
      "outputs": [
        {
          "output_type": "stream",
          "name": "stdout",
          "text": [
            "enter side:4\n",
            "area= 16.0\n"
          ]
        }
      ]
    },
    {
      "cell_type": "code",
      "source": [
        "#write a program to input 2 floting point number & print their average.\n",
        "a=float(input(\"enter a number:\"))\n",
        "b=float(input(\"enter a number:\"))\n",
        "avg=a+b/2\n",
        "print(\"avg =\",avg)"
      ],
      "metadata": {
        "id": "8Vr02HC1bnbf",
        "outputId": "c73ca62e-7ed9-45cb-e95e-463e5f91f19e",
        "colab": {
          "base_uri": "https://localhost:8080/"
        }
      },
      "execution_count": null,
      "outputs": [
        {
          "output_type": "stream",
          "name": "stdout",
          "text": [
            "enter a number:16.5\n",
            "enter a number:3.5\n",
            "avg = 18.25\n"
          ]
        }
      ]
    },
    {
      "cell_type": "code",
      "source": [
        "#write a program to input 2 int numbers a and b print true if a is greater than or equal to b if not print false\n",
        "a=int(input(\"enter a first num:\"))\n",
        "b=int(input(\"enter a second num:\"))\n",
        "\n",
        "print(a>=b)"
      ],
      "metadata": {
        "id": "6fjYPktld5BR",
        "outputId": "63f5976e-d312-499e-921b-af0f5b9d7714",
        "colab": {
          "base_uri": "https://localhost:8080/"
        }
      },
      "execution_count": null,
      "outputs": [
        {
          "output_type": "stream",
          "name": "stdout",
          "text": [
            "enter a first num:4\n",
            "enter a second num:3\n",
            "True\n"
          ]
        }
      ]
    },
    {
      "cell_type": "code",
      "source": [
        "#for loop\n",
        "t=int(input(\"enter thenumber:\"))\n",
        "for a in range(1,20):\n",
        "    result=t*a\n",
        "    print(t,\"*\",a,\"=\",result)"
      ],
      "metadata": {
        "id": "6a7hXEVfXEma",
        "outputId": "0aae2ffc-c911-45e2-cdcd-a9b09072ff9e",
        "colab": {
          "base_uri": "https://localhost:8080/"
        }
      },
      "execution_count": null,
      "outputs": [
        {
          "output_type": "stream",
          "name": "stdout",
          "text": [
            "enter thenumber:4\n",
            "4 * 1 = 4\n",
            "4 * 2 = 8\n",
            "4 * 3 = 12\n",
            "4 * 4 = 16\n",
            "4 * 5 = 20\n",
            "4 * 6 = 24\n",
            "4 * 7 = 28\n",
            "4 * 8 = 32\n",
            "4 * 9 = 36\n",
            "4 * 10 = 40\n",
            "4 * 11 = 44\n",
            "4 * 12 = 48\n",
            "4 * 13 = 52\n",
            "4 * 14 = 56\n",
            "4 * 15 = 60\n",
            "4 * 16 = 64\n",
            "4 * 17 = 68\n",
            "4 * 18 = 72\n",
            "4 * 19 = 76\n"
          ]
        }
      ]
    },
    {
      "cell_type": "code",
      "source": [
        "for i in range (1,10,):\n",
        "  print(\"*\"*i)"
      ],
      "metadata": {
        "id": "vIU0rpEXZRso",
        "outputId": "513c2425-a64d-47d7-ce66-96cf8422e145",
        "colab": {
          "base_uri": "https://localhost:8080/"
        }
      },
      "execution_count": null,
      "outputs": [
        {
          "output_type": "stream",
          "name": "stdout",
          "text": [
            "*\n",
            "**\n",
            "***\n",
            "****\n",
            "*****\n",
            "******\n",
            "*******\n",
            "********\n",
            "*********\n"
          ]
        }
      ]
    },
    {
      "cell_type": "code",
      "source": [
        "l=[\"1\",\"2\",\"3\",\"4\",\"a\",\"b\",\"c\",\"d\"]\n",
        "for i in l:\n",
        "    print(i)"
      ],
      "metadata": {
        "id": "ovYulRBWaohR",
        "outputId": "8bf174f3-db11-4899-ba8f-457330327486",
        "colab": {
          "base_uri": "https://localhost:8080/"
        }
      },
      "execution_count": null,
      "outputs": [
        {
          "output_type": "stream",
          "name": "stdout",
          "text": [
            "1\n",
            "2\n",
            "3\n",
            "4\n",
            "a\n",
            "b\n",
            "c\n",
            "d\n"
          ]
        }
      ]
    },
    {
      "cell_type": "code",
      "source": [
        "#revers command\n",
        "t=int(input())\n",
        "for a in range (19,0,-1)\n",
        "  print(a)"
      ],
      "metadata": {
        "id": "PG0ZA0dVa3Z6",
        "outputId": "479a8439-fb6f-4a89-c7e3-e07a8859a53a",
        "colab": {
          "base_uri": "https://localhost:8080/"
        }
      },
      "execution_count": null,
      "outputs": [
        {
          "output_type": "stream",
          "name": "stdout",
          "text": [
            "1\n",
            "19\n",
            "18\n",
            "17\n",
            "16\n",
            "15\n",
            "14\n",
            "13\n",
            "12\n",
            "11\n",
            "10\n",
            "9\n",
            "8\n",
            "7\n",
            "6\n",
            "5\n",
            "4\n",
            "3\n",
            "2\n",
            "1\n"
          ]
        }
      ]
    },
    {
      "cell_type": "code",
      "source": [
        "#while loop\n",
        "a=1\n",
        "while a<=10:\n",
        "  print(\"hello\")\n",
        "  a+=1"
      ],
      "metadata": {
        "id": "1lwTQzwudORM",
        "outputId": "49fad220-5b37-4aa6-cc27-ddbdb9efd0d4",
        "colab": {
          "base_uri": "https://localhost:8080/"
        }
      },
      "execution_count": null,
      "outputs": [
        {
          "output_type": "stream",
          "name": "stdout",
          "text": [
            "hello\n",
            "hello\n",
            "hello\n",
            "hello\n",
            "hello\n",
            "hello\n",
            "hello\n",
            "hello\n",
            "hello\n",
            "hello\n"
          ]
        }
      ]
    },
    {
      "cell_type": "code",
      "source": [
        "#while loop\n",
        "a=10\n",
        "while a>=1:\n",
        "  print(a)\n",
        "  a-=1"
      ],
      "metadata": {
        "id": "ZTFbyow-dL5X",
        "outputId": "69b8a357-85d0-442d-bfe4-ba98452c2a49",
        "colab": {
          "base_uri": "https://localhost:8080/"
        }
      },
      "execution_count": null,
      "outputs": [
        {
          "output_type": "stream",
          "name": "stdout",
          "text": [
            "10\n",
            "9\n",
            "8\n",
            "7\n",
            "6\n",
            "5\n",
            "4\n",
            "3\n",
            "2\n",
            "1\n"
          ]
        }
      ]
    },
    {
      "cell_type": "code",
      "source": [
        "a=10\n",
        "while a>=1:\n",
        "  print(\"hello\")\n",
        "  a-=1"
      ],
      "metadata": {
        "id": "-SMAqkHkeWn7",
        "outputId": "c2cf027c-66e1-412e-b3e9-626a5cbf5986",
        "colab": {
          "base_uri": "https://localhost:8080/"
        }
      },
      "execution_count": null,
      "outputs": [
        {
          "output_type": "stream",
          "name": "stdout",
          "text": [
            "hello\n",
            "hello\n",
            "hello\n",
            "hello\n",
            "hello\n",
            "hello\n",
            "hello\n",
            "hello\n",
            "hello\n",
            "hello\n"
          ]
        }
      ]
    },
    {
      "cell_type": "code",
      "source": [
        "i=1\n",
        "s=0\n",
        "while (i<=10):\n",
        "  s=s+i\n",
        "  i+=1\n",
        "print(s)\n"
      ],
      "metadata": {
        "id": "IxVhzFXce0rT",
        "outputId": "9891d2b5-4b2b-4d1a-93d2-463f4d83cae0",
        "colab": {
          "base_uri": "https://localhost:8080/"
        }
      },
      "execution_count": null,
      "outputs": [
        {
          "output_type": "stream",
          "name": "stdout",
          "text": [
            "55\n"
          ]
        }
      ]
    },
    {
      "cell_type": "code",
      "source": [
        "n=1\n",
        "s=0\n",
        "n1=input(\"enter the number\")\n",
        "while (n<=5):\n",
        "  s=s+n\n",
        "  n+=1\n",
        "  print(s)\n",
        "  print(n)"
      ],
      "metadata": {
        "id": "8mAd4QoAhXIR",
        "outputId": "190be5d8-f8cc-460a-c3c8-81f035f41e5f",
        "colab": {
          "base_uri": "https://localhost:8080/"
        }
      },
      "execution_count": null,
      "outputs": [
        {
          "output_type": "stream",
          "name": "stdout",
          "text": [
            "enter the number5\n",
            "1\n",
            "2\n",
            "3\n",
            "3\n",
            "6\n",
            "4\n",
            "10\n",
            "5\n",
            "15\n",
            "6\n"
          ]
        }
      ]
    },
    {
      "cell_type": "code",
      "source": [
        "#fuhnction :is a block of code which can use repeatedly and can use save time and number lines of code\n",
        "\n",
        "#1.user defined function\n",
        "#2.in bulit function\n",
        "#3.lambada  function\n",
        "\n",
        "#1.1 withpout paramiterised function\n",
        "# 1.1.1 function declaration\n",
        "#def functionName():\n",
        "# implmentation\n",
        "\n",
        "#Without parametrised function\n",
        "#def functionName(paramiters):\n",
        "#  implementation\n",
        "\n",
        "# functionName (arguments)/functipon calling\n",
        "\n",
        "def add_2_num():\n",
        "  a = float (input(\"Enter first number\"))\n",
        "  b = float(input(\"Enter second number\"))\n",
        "  print(f\"addition of 2 number={a+b}\")\n",
        "add_2_num()"
      ],
      "metadata": {
        "id": "Ed2bwW8vdzvK",
        "outputId": "cbb02343-a995-410c-bbb7-89002b5f979d",
        "colab": {
          "base_uri": "https://localhost:8080/"
        }
      },
      "execution_count": null,
      "outputs": [
        {
          "output_type": "stream",
          "name": "stdout",
          "text": [
            "Enter first number4\n",
            "Enter second number4\n",
            "addition of 2 number=8.0\n"
          ]
        }
      ]
    },
    {
      "cell_type": "code",
      "source": [
        "#greater than 2 number\n",
        "def greaternum():\n",
        "    a = float (input(\"Enter first number\"))\n",
        "    b = float(input(\"Enter second number\"))\n",
        "    if  a>b:\n",
        "      print(f\"{a}is greater number than {b}\")\n",
        "\n",
        "    else:\n",
        "      print(f\"{b}is greater number than {a}\")\n",
        "greaternum()\n",
        "greaternum()\n",
        "\n"
      ],
      "metadata": {
        "id": "TwgGDGaelze-",
        "outputId": "961fe078-ff36-41cc-febd-7ffaee8c6a3b",
        "colab": {
          "base_uri": "https://localhost:8080/"
        }
      },
      "execution_count": null,
      "outputs": [
        {
          "output_type": "stream",
          "name": "stdout",
          "text": [
            "Enter first number4\n",
            "Enter second number5\n",
            "5.0is greater number than 4.0\n",
            "Enter first number6\n",
            "Enter second number7\n",
            "7.0is greater number than 6.0\n"
          ]
        }
      ]
    },
    {
      "cell_type": "code",
      "source": [
        "def gret(name):\n",
        "  print(f\"good evening{name}\")\n",
        "gret(\"ritesh\")"
      ],
      "metadata": {
        "id": "jVa_DX2ozumh",
        "outputId": "d383b47d-e4f5-429c-fa0e-5cfdd21e2916",
        "colab": {
          "base_uri": "https://localhost:8080/"
        }
      },
      "execution_count": 1,
      "outputs": [
        {
          "output_type": "stream",
          "name": "stdout",
          "text": [
            "good eveningritesh\n"
          ]
        }
      ]
    },
    {
      "cell_type": "code",
      "source": [
        "def gret(name):\n",
        "  print(f\"good evening {name}\")\n",
        "name=input(\"enter your name\")\n",
        "\n",
        "gret(name)\n"
      ],
      "metadata": {
        "id": "cdnTjlApz2BA",
        "outputId": "552909f5-0db9-4dd4-85b9-ecf33f14206d",
        "colab": {
          "base_uri": "https://localhost:8080/"
        }
      },
      "execution_count": 2,
      "outputs": [
        {
          "output_type": "stream",
          "name": "stdout",
          "text": [
            "enter your nameritesh\n",
            "good evening ritesh\n"
          ]
        }
      ]
    },
    {
      "cell_type": "code",
      "source": [
        "def user(name,height,phone_no):\n",
        "  print(f\"User information:\\nname={name}, height={height}, phoneNumber={phone_no}\")\n",
        "\n",
        "name=input(\"enter your name\")\n",
        "height=input(\"enter your height\")\n",
        "phone_no=input(\"enter your phone no\")\n",
        "user(name,height,phone_no)"
      ],
      "metadata": {
        "id": "fn9zNzPsz9He",
        "outputId": "e2d073d6-9da1-4b50-fa8b-be98ac762e4e",
        "colab": {
          "base_uri": "https://localhost:8080/"
        }
      },
      "execution_count": 3,
      "outputs": [
        {
          "output_type": "stream",
          "name": "stdout",
          "text": [
            "enter your nameritesh\n",
            "enter your height5.7\n",
            "enter your phone no9145427171\n",
            "User information:\n",
            "name=ritesh, height=5.7, phoneNumber=9145427171\n"
          ]
        }
      ]
    },
    {
      "cell_type": "code",
      "source": [
        "#area of triangle\n",
        "#area=0.5*b*h\n",
        "def area_triangle(base,height):\n",
        "  return 0.5*base*height\n",
        "base=int(input(\"enter the base\"))\n",
        "height=int(input(\"enter the height\"))\n",
        "area=area_triangle(base,height)\n",
        "print(f\"area of triangle={area}\")"
      ],
      "metadata": {
        "id": "eL5tMFO90BB3",
        "outputId": "cd2e5330-ddb7-4aac-9fe6-cc49e8ee037b",
        "colab": {
          "base_uri": "https://localhost:8080/"
        }
      },
      "execution_count": 4,
      "outputs": [
        {
          "output_type": "stream",
          "name": "stdout",
          "text": [
            "enter the base10\n",
            "enter the height1\n",
            "area of triangle=5.0\n"
          ]
        }
      ]
    },
    {
      "cell_type": "code",
      "source": [
        "square=lambda x:x**2\n",
        "print(square(5))"
      ],
      "metadata": {
        "id": "SYJFwEjR0R5B",
        "outputId": "ef435171-b55c-4ade-8f36-9c56eeb5506c",
        "colab": {
          "base_uri": "https://localhost:8080/"
        }
      },
      "execution_count": 5,
      "outputs": [
        {
          "output_type": "stream",
          "name": "stdout",
          "text": [
            "25\n"
          ]
        }
      ]
    },
    {
      "cell_type": "code",
      "source": [
        "even=lambda x:x%2==0\n",
        "print(even(4))"
      ],
      "metadata": {
        "id": "2gqP1dxB0VIg",
        "outputId": "06941c23-6184-4428-d588-bb8f07f229d1",
        "colab": {
          "base_uri": "https://localhost:8080/"
        }
      },
      "execution_count": 6,
      "outputs": [
        {
          "output_type": "stream",
          "name": "stdout",
          "text": [
            "True\n"
          ]
        }
      ]
    }
  ]
}