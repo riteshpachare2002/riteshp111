{
  "nbformat": 4,
  "nbformat_minor": 0,
  "metadata": {
    "colab": {
      "provenance": [],
      "authorship_tag": "ABX9TyO2XmGsBRH5XSjVmH60+rcZ",
      "include_colab_link": true
    },
    "kernelspec": {
      "name": "python3",
      "display_name": "Python 3"
    },
    "language_info": {
      "name": "python"
    }
  },
  "cells": [
    {
      "cell_type": "markdown",
      "metadata": {
        "id": "view-in-github",
        "colab_type": "text"
      },
      "source": [
        "<a href=\"https://colab.research.google.com/github/riteshpachare2002/riteshp111/blob/main/Untitled.ipynb\" target=\"_parent\"><img src=\"https://colab.research.google.com/assets/colab-badge.svg\" alt=\"Open In Colab\"/></a>"
      ]
    },
    {
      "cell_type": "code",
      "execution_count": 12,
      "metadata": {
        "colab": {
          "base_uri": "https://localhost:8080/"
        },
        "id": "IdbZlwG8NSp1",
        "outputId": "317e321f-97a5-423e-c474-085618f01396"
      },
      "outputs": [
        {
          "output_type": "stream",
          "name": "stdout",
          "text": [
            "name:ritesh\n",
            "age:23\n",
            "my name is ritesh and i am  23 yearold\n"
          ]
        }
      ],
      "source": [
        "name=input(\"name:\")\n",
        "name2=input(\"age:\")\n",
        "print(\"my name is\",name,\"and i am \",name2,\"yearold\")"
      ]
    },
    {
      "cell_type": "code",
      "source": [
        " light =input(\"light:\")\n",
        "if(light==\"red\"):\n",
        "      print(\"stop\")\n",
        "elif(light==\"green\"):\n",
        "      print(\"go\")\n",
        "elif(light==\"yellow\"):\n",
        "      print(\"look\")\n",
        "else:\n",
        "      print(\"damage light\")\n"
      ],
      "metadata": {
        "colab": {
          "base_uri": "https://localhost:8080/"
        },
        "id": "9evowEG_wCOX",
        "outputId": "6e9ce63a-e85a-42fe-d3bc-ff667e2a36aa"
      },
      "execution_count": 16,
      "outputs": [
        {
          "output_type": "stream",
          "name": "stdout",
          "text": [
            "light:red\n",
            "stop\n"
          ]
        }
      ]
    },
    {
      "cell_type": "code",
      "source": [
        "marks= input(\"marks:\")\n",
        "marks=int(marks)\n",
        "if(marks >= 90):\n",
        "    print(\"Grade=A\")\n",
        "elif(marks >= 80 and marks < 90):\n",
        "    print(\"Grade=B\")\n",
        "elif(marks >= 70 and marks < 80):\n",
        "    print(\"Grade=C\")\n",
        "elif(marks >= 35 and marks < 70):\n",
        "    print(\"Grade=D\")\n",
        "else:\n",
        "     print(\"Grade=FAIL\")\n"
      ],
      "metadata": {
        "colab": {
          "base_uri": "https://localhost:8080/"
        },
        "id": "VN4zKSxH0CHg",
        "outputId": "8ee61370-05fa-4624-c6b6-45b6b87ac7f2"
      },
      "execution_count": 31,
      "outputs": [
        {
          "output_type": "stream",
          "name": "stdout",
          "text": [
            "marks:34\n",
            "Grade=FAIL\n"
          ]
        }
      ]
    },
    {
      "cell_type": "code",
      "source": [
        "marks=input('marks:')\n",
        "print(\"pass\")if int(marks)>= 35 else print(\"fail\")"
      ],
      "metadata": {
        "colab": {
          "base_uri": "https://localhost:8080/"
        },
        "id": "YENooVJi5Kvw",
        "outputId": "aa90383b-3ff3-4d06-fdf9-85453ada2730"
      },
      "execution_count": 37,
      "outputs": [
        {
          "output_type": "stream",
          "name": "stdout",
          "text": [
            "marks:55\n",
            "pass\n"
          ]
        }
      ]
    }
  ]
}